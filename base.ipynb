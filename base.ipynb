{
 "cells": [
  {
   "cell_type": "markdown",
   "id": "dd3da0a6",
   "metadata": {},
   "source": [
    "Import Packages"
   ]
  },
  {
   "cell_type": "code",
   "execution_count": 4,
   "id": "75dd2e8a",
   "metadata": {},
   "outputs": [],
   "source": [
    "import pandas as pd\n",
    "import numpy as np\n",
    "import matplotlib.pyplot as plt\n",
    "import seaborn as sns\n",
    "import networkx as nx\n",
    "import node2vec\n",
    "import multiprocessing\n",
    "import torch\n",
    "import torch.nn.functional as F\n",
    "import urllib.request\n",
    "from torch_geometric.nn import GCNConv\n",
    "from node2vec import Node2Vec\n",
    "from urllib.request import urlretrieve"
   ]
  },
  {
   "cell_type": "markdown",
   "id": "9e9409c7",
   "metadata": {},
   "source": [
    "Create ppi human graph"
   ]
  },
  {
   "cell_type": "code",
   "execution_count": 5,
   "id": "1e1ad832",
   "metadata": {},
   "outputs": [
    {
     "name": "stdout",
     "output_type": "stream",
     "text": [
      "Human nodes: 21557 edges: 342352\n"
     ]
    }
   ],
   "source": [
    "df = pd.read_csv('PP-Pathways_ppi.csv')\n",
    "\n",
    "edges = list(zip(df['1394'], df['2778']))\n",
    "\n",
    "G_human = nx.Graph()\n",
    "G_human.add_edges_from(edges)\n",
    "\n",
    "print(\"Human nodes:\", len(G_human.nodes()), \"edges:\", len(G_human.edges()))"
   ]
  },
  {
   "cell_type": "markdown",
   "id": "d4fe2bbb",
   "metadata": {},
   "source": [
    "Retrieve and convert yeast file to graph"
   ]
  },
  {
   "cell_type": "code",
   "execution_count": 9,
   "id": "122bce68",
   "metadata": {},
   "outputs": [],
   "source": [
    "from urllib.request import urlretrieve\n",
    "urllib.request.urlretrieve(\n",
    "    'http://snap.stanford.edu/deepnetbio-ismb/ipynb/yeast.edgelist',\n",
    "    'yeast.edgelist'\n",
    ")\n",
    "yeast_file = \"yeast.edgelist\"\n",
    "G_yeast = nx.read_edgelist(yeast_file)"
   ]
  },
  {
   "cell_type": "code",
   "execution_count": 1,
   "id": "989cb5a0",
   "metadata": {},
   "outputs": [
    {
     "name": "stdout",
     "output_type": "stream",
     "text": [
      "hi\n"
     ]
    }
   ],
   "source": [
    "print('hi')"
   ]
  },
  {
   "cell_type": "markdown",
   "id": "2495a691",
   "metadata": {},
   "source": [
    "Generate embeddings for graphs"
   ]
  },
  {
   "cell_type": "code",
   "execution_count": 10,
   "id": "63adf7b6",
   "metadata": {},
   "outputs": [],
   "source": [
    "def generate_embeddings(G, dimensions=32):\n",
    "    node2vec = Node2Vec(G, dimensions=dimensions, walk_length=10,\n",
    "                        num_walks=10, workers=8, quiet=True)\n",
    "    model = node2vec.fit(window=10, min_count=1, batch_words=4)\n",
    "\n",
    "    # Create DataFrame of embeddings\n",
    "    emb_df = pd.DataFrame([model.wv.get_vector(str(node)) for node in G.nodes()])\n",
    "    emb_df[\"node\"] = list(G.nodes())\n",
    "    return emb_df, model"
   ]
  },
  {
   "cell_type": "code",
   "execution_count": null,
   "id": "0af1d6fc",
   "metadata": {},
   "outputs": [],
   "source": [
    "emb_yeast, model_yeast = generate_embeddings(G_yeast)\n",
    "emb_human, model_human = generate_embeddings(G_human)\n",
    "\n",
    "print(\"Embeddings (Yeast):\", emb_yeast.shape)\n",
    "print(\"Embeddings (Human):\", emb_human.shape)"
   ]
  }
 ],
 "metadata": {
  "kernelspec": {
   "display_name": "gcn",
   "language": "python",
   "name": "python3"
  },
  "language_info": {
   "codemirror_mode": {
    "name": "ipython",
    "version": 3
   },
   "file_extension": ".py",
   "mimetype": "text/x-python",
   "name": "python",
   "nbconvert_exporter": "python",
   "pygments_lexer": "ipython3",
   "version": "3.11.3"
  }
 },
 "nbformat": 4,
 "nbformat_minor": 5
}
