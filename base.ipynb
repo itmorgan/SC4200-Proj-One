{
 "cells": [
  {
   "cell_type": "markdown",
   "id": "dd3da0a6",
   "metadata": {},
   "source": [
    "Import Packages"
   ]
  },
  {
   "cell_type": "code",
   "execution_count": 1,
   "id": "75dd2e8a",
   "metadata": {},
   "outputs": [],
   "source": [
    "import pandas as pd\n",
    "import numpy as np\n",
    "import matplotlib.pyplot as plt\n",
    "import seaborn as sns\n",
    "import networkx as nx\n",
    "import node2vec\n",
    "import multiprocessing\n",
    "import torch\n",
    "import torch.nn.functional as F\n",
    "import urllib.request\n",
    "from torch_geometric.nn import GCNConv\n",
    "from node2vec import Node2Vec\n",
    "from urllib.request import urlretrieve"
   ]
  },
  {
   "cell_type": "markdown",
   "id": "9e9409c7",
   "metadata": {},
   "source": [
    "Create ppi human graph"
   ]
  },
  {
   "cell_type": "code",
   "execution_count": 2,
   "id": "1e1ad832",
   "metadata": {},
   "outputs": [
    {
     "name": "stdout",
     "output_type": "stream",
     "text": [
      "Human nodes: 21557 edges: 342352\n"
     ]
    }
   ],
   "source": [
    "df = pd.read_csv('PP-Pathways_ppi.csv')\n",
    "\n",
    "edges = list(zip(df['1394'], df['2778']))\n",
    "\n",
    "G_human = nx.Graph()\n",
    "G_human.add_edges_from(edges)\n",
    "\n",
    "print(\"Human nodes:\", len(G_human.nodes()), \"edges:\", len(G_human.edges()))"
   ]
  },
  {
   "cell_type": "markdown",
   "id": "d4fe2bbb",
   "metadata": {},
   "source": [
    "Retrieve and convert yeast file to graph"
   ]
  },
  {
   "cell_type": "code",
   "execution_count": 3,
   "id": "122bce68",
   "metadata": {},
   "outputs": [],
   "source": [
    "from urllib.request import urlretrieve\n",
    "urllib.request.urlretrieve(\n",
    "    'http://snap.stanford.edu/deepnetbio-ismb/ipynb/yeast.edgelist',\n",
    "    'yeast.edgelist'\n",
    ")\n",
    "yeast_file = \"yeast.edgelist\"\n",
    "G_yeast = nx.read_edgelist(yeast_file)"
   ]
  },
  {
   "cell_type": "markdown",
   "id": "2495a691",
   "metadata": {},
   "source": [
    "Generate embeddings for graphs"
   ]
  },
  {
   "cell_type": "code",
   "execution_count": 6,
   "id": "6c22aa63",
   "metadata": {},
   "outputs": [
    {
     "name": "stdout",
     "output_type": "stream",
     "text": [
      "Yeast nodes: 6526 edges: 532180\n",
      "Human nodes: 21557 edges: 342352\n"
     ]
    }
   ],
   "source": [
    "print(\"Yeast nodes:\", len(G_yeast.nodes()), \"edges:\", len(G_yeast.edges()))\n",
    "print(\"Human nodes:\", len(G_human.nodes()), \"edges:\", len(G_human.edges()))"
   ]
  },
  {
   "cell_type": "code",
   "execution_count": null,
   "id": "63adf7b6",
   "metadata": {},
   "outputs": [],
   "source": [
    "# def generate_embeddings(G, dimensions=32):\n",
    "#     node2vec = Node2Vec(G, dimensions=dimensions, walk_length=10,\n",
    "#                         num_walks=10, workers=8, quiet=True)\n",
    "#     model = node2vec.fit(window=10, min_count=1, batch_words=4)\n",
    "\n",
    "#     # Create DataFrame of embeddings\n",
    "#     emb_df = pd.DataFrame([model.wv.get_vector(str(node)) for node in G.nodes()])\n",
    "#     emb_df[\"node\"] = list(G.nodes())\n",
    "#     return emb_df, model"
   ]
  },
  {
   "cell_type": "code",
   "execution_count": null,
   "id": "0af1d6fc",
   "metadata": {},
   "outputs": [
    {
     "ename": "KeyboardInterrupt",
     "evalue": "",
     "output_type": "error",
     "traceback": [
      "\u001b[31m---------------------------------------------------------------------------\u001b[39m",
      "\u001b[31mKeyboardInterrupt\u001b[39m                         Traceback (most recent call last)",
      "\u001b[36mCell\u001b[39m\u001b[36m \u001b[39m\u001b[32mIn[5]\u001b[39m\u001b[32m, line 1\u001b[39m\n\u001b[32m----> \u001b[39m\u001b[32m1\u001b[39m emb_yeast, model_yeast = \u001b[43mgenerate_embeddings\u001b[49m\u001b[43m(\u001b[49m\u001b[43mG_yeast\u001b[49m\u001b[43m)\u001b[49m\n\u001b[32m      2\u001b[39m emb_human, model_human = generate_embeddings(G_human)\n\u001b[32m      4\u001b[39m \u001b[38;5;28mprint\u001b[39m(\u001b[33m\"\u001b[39m\u001b[33mEmbeddings (Yeast):\u001b[39m\u001b[33m\"\u001b[39m, emb_yeast.shape)\n",
      "\u001b[36mCell\u001b[39m\u001b[36m \u001b[39m\u001b[32mIn[4]\u001b[39m\u001b[32m, line 2\u001b[39m, in \u001b[36mgenerate_embeddings\u001b[39m\u001b[34m(G, dimensions)\u001b[39m\n\u001b[32m      1\u001b[39m \u001b[38;5;28;01mdef\u001b[39;00m\u001b[38;5;250m \u001b[39m\u001b[34mgenerate_embeddings\u001b[39m(G, dimensions=\u001b[32m32\u001b[39m):\n\u001b[32m----> \u001b[39m\u001b[32m2\u001b[39m     node2vec = \u001b[43mNode2Vec\u001b[49m\u001b[43m(\u001b[49m\u001b[43mG\u001b[49m\u001b[43m,\u001b[49m\u001b[43m \u001b[49m\u001b[43mdimensions\u001b[49m\u001b[43m=\u001b[49m\u001b[43mdimensions\u001b[49m\u001b[43m,\u001b[49m\u001b[43m \u001b[49m\u001b[43mwalk_length\u001b[49m\u001b[43m=\u001b[49m\u001b[32;43m10\u001b[39;49m\u001b[43m,\u001b[49m\n\u001b[32m      3\u001b[39m \u001b[43m                        \u001b[49m\u001b[43mnum_walks\u001b[49m\u001b[43m=\u001b[49m\u001b[32;43m10\u001b[39;49m\u001b[43m,\u001b[49m\u001b[43m \u001b[49m\u001b[43mworkers\u001b[49m\u001b[43m=\u001b[49m\u001b[32;43m8\u001b[39;49m\u001b[43m,\u001b[49m\u001b[43m \u001b[49m\u001b[43mquiet\u001b[49m\u001b[43m=\u001b[49m\u001b[38;5;28;43;01mTrue\u001b[39;49;00m\u001b[43m)\u001b[49m\n\u001b[32m      4\u001b[39m     model = node2vec.fit(window=\u001b[32m10\u001b[39m, min_count=\u001b[32m1\u001b[39m, batch_words=\u001b[32m4\u001b[39m)\n\u001b[32m      6\u001b[39m     \u001b[38;5;66;03m# Create DataFrame of embeddings\u001b[39;00m\n",
      "\u001b[36mFile \u001b[39m\u001b[32mc:\\Users\\tiffa\\anaconda3\\envs\\gcn\\Lib\\site-packages\\node2vec\\node2vec.py:70\u001b[39m, in \u001b[36mNode2Vec.__init__\u001b[39m\u001b[34m(self, graph, dimensions, walk_length, num_walks, p, q, weight_key, workers, sampling_strategy, quiet, temp_folder)\u001b[39m\n\u001b[32m     67\u001b[39m     \u001b[38;5;28mself\u001b[39m.temp_folder = temp_folder\n\u001b[32m     68\u001b[39m     \u001b[38;5;28mself\u001b[39m.require = \u001b[33m\"\u001b[39m\u001b[33msharedmem\u001b[39m\u001b[33m\"\u001b[39m\n\u001b[32m---> \u001b[39m\u001b[32m70\u001b[39m \u001b[38;5;28;43mself\u001b[39;49m\u001b[43m.\u001b[49m\u001b[43m_precompute_probabilities\u001b[49m\u001b[43m(\u001b[49m\u001b[43m)\u001b[49m\n\u001b[32m     71\u001b[39m \u001b[38;5;28mself\u001b[39m.walks = \u001b[38;5;28mself\u001b[39m._generate_walks()\n",
      "\u001b[36mFile \u001b[39m\u001b[32mc:\\Users\\tiffa\\anaconda3\\envs\\gcn\\Lib\\site-packages\\node2vec\\node2vec.py:132\u001b[39m, in \u001b[36mNode2Vec._precompute_probabilities\u001b[39m\u001b[34m(self)\u001b[39m\n\u001b[32m    129\u001b[39m     first_travel_done.add(current_node)\n\u001b[32m    131\u001b[39m \u001b[38;5;66;03m# Save neighbors\u001b[39;00m\n\u001b[32m--> \u001b[39m\u001b[32m132\u001b[39m d_graph[current_node][\u001b[38;5;28mself\u001b[39m.NEIGHBORS_KEY] = d_neighbors\n",
      "\u001b[31mKeyboardInterrupt\u001b[39m: "
     ]
    }
   ],
   "source": [
    "# emb_yeast, model_yeast = generate_embeddings(G_yeast)\n",
    "# emb_human, model_human = generate_embeddings(G_human)\n",
    "\n",
    "# print(\"Embeddings (Yeast):\", emb_yeast.shape)\n",
    "# print(\"Embeddings (Human):\", emb_human.shape)"
   ]
  }
 ],
 "metadata": {
  "kernelspec": {
   "display_name": "gcn",
   "language": "python",
   "name": "python3"
  },
  "language_info": {
   "codemirror_mode": {
    "name": "ipython",
    "version": 3
   },
   "file_extension": ".py",
   "mimetype": "text/x-python",
   "name": "python",
   "nbconvert_exporter": "python",
   "pygments_lexer": "ipython3",
   "version": "3.11.3"
  }
 },
 "nbformat": 4,
 "nbformat_minor": 5
}
